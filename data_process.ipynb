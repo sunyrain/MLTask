{
 "cells": [
  {
   "cell_type": "code",
   "execution_count": 7,
   "metadata": {},
   "outputs": [],
   "source": [
    "import numpy as np\n",
    "import pandas as pd"
   ]
  },
  {
   "cell_type": "code",
   "execution_count": 8,
   "metadata": {},
   "outputs": [
    {
     "name": "stderr",
     "output_type": "stream",
     "text": [
      "c:\\Users\\wenjie\\anaconda3\\Lib\\site-packages\\sklearn\\preprocessing\\_encoders.py:972: FutureWarning: `sparse` was renamed to `sparse_output` in version 1.2 and will be removed in 1.4. `sparse_output` is ignored unless you leave `sparse` to its default value.\n",
      "  warnings.warn(\n",
      "c:\\Users\\wenjie\\anaconda3\\Lib\\site-packages\\sklearn\\preprocessing\\_encoders.py:972: FutureWarning: `sparse` was renamed to `sparse_output` in version 1.2 and will be removed in 1.4. `sparse_output` is ignored unless you leave `sparse` to its default value.\n",
      "  warnings.warn(\n"
     ]
    }
   ],
   "source": [
    "from sklearn.preprocessing import OneHotEncoder\n",
    "\n",
    "def Normal(Data, max_values):\n",
    "    Data = Data.astype(np.float32)\n",
    "    for id in range(len(max_values)):\n",
    "        Data[:, id] = Data[:, id] / max_values[id]\n",
    "    return Data\n",
    "\n",
    "def load_and_process_data(paths, max_values, encoder):\n",
    "    X = []\n",
    "    Y = []\n",
    "    for category, path_list in enumerate(paths):\n",
    "        for path in path_list:\n",
    "            T_Data = pd.read_csv(path, header=0)\n",
    "            T_Data = np.array(T_Data)\n",
    "            if T_Data[:, 1].shape[0] >= 181:\n",
    "                Data_E1 = T_Data[1:181, 1:]\n",
    "                Data_E1 = Normal(Data_E1, max_values)\n",
    "                X.append(Data_E1.flatten())\n",
    "                Y.append(category)\n",
    "    X = np.array(X)\n",
    "    Y = np.array(Y).reshape(-1, 1)\n",
    "    Y = encoder.fit_transform(Y)\n",
    "    return X, Y\n",
    "\n",
    "# 定义最大值列表\n",
    "max_values_list = [1200, 1200, 1200, 1200, 0.5, 700, 12, 15, 10, 200, 20, 10, 10, 10, 30, 40]\n",
    "\n",
    "# 初始化 OneHotEncoder\n",
    "encoder = OneHotEncoder(sparse=False)\n",
    "\n",
    "# 构建文件路径\n",
    "train_paths = [\n",
    "    ['Dataset/train/AddWeight/AddWeight_'+str(i)+'.csv' for i in range(214)],\n",
    "    ['Dataset/train/Normal/Normal_'+str(i)+'.csv' for i in range(146)],\n",
    "    ['Dataset/train/PressureGain_constant/PressureGain_constant_'+str(i)+'.csv' for i in range(213)],\n",
    "    ['Dataset/train/PropellerDamage_bad/PropellerDamage_bad_'+str(i)+'.csv' for i in range(199)],\n",
    "    ['Dataset/train/PropellerDamage_slight/PropellerDamage_slight_'+str(i)+'.csv' for i in range(208)]\n",
    "]\n",
    "\n",
    "test_paths = [\n",
    "    ['Dataset/test/AddWeight/AddWeight_'+str(i)+'.csv' for i in range(54)],\n",
    "    ['Dataset/test/Normal/Normal_'+str(i)+'.csv' for i in range(36)],\n",
    "    ['Dataset/test/PressureGain_constant/PressureGain_constant_'+str(i)+'.csv' for i in range(53)],\n",
    "    ['Dataset/test/PropellerDamage_bad/PropellerDamage_bad_'+str(i)+'.csv' for i in range(50)],\n",
    "    ['Dataset/test/PropellerDamage_slight/PropellerDamage_slight_'+str(i)+'.csv' for i in range(52)]\n",
    "]\n",
    "\n",
    "# 加载和处理训练集和测试集\n",
    "Xtrain, Ytrain = load_and_process_data(train_paths, max_values_list, encoder)\n",
    "Xtest, Ytest = load_and_process_data(test_paths, max_values_list, encoder)\n",
    "\n",
    "# 继续您的模型训练和评估...\n"
   ]
  },
  {
   "cell_type": "code",
   "execution_count": 9,
   "metadata": {},
   "outputs": [],
   "source": [
    "import numpy as np\n",
    "\n",
    "# 保存训练数据\n",
    "np.save('Xtrain.npy', Xtrain)\n",
    "np.save('Ytrain.npy', Ytrain)\n",
    "\n",
    "# 保存测试数据\n",
    "np.save('Xtest.npy', Xtest)\n",
    "np.save('Ytest.npy', Ytest)\n"
   ]
  },
  {
   "cell_type": "code",
   "execution_count": 10,
   "metadata": {},
   "outputs": [
    {
     "name": "stderr",
     "output_type": "stream",
     "text": [
      "c:\\Users\\wenjie\\anaconda3\\Lib\\site-packages\\sklearn\\preprocessing\\_encoders.py:972: FutureWarning: `sparse` was renamed to `sparse_output` in version 1.2 and will be removed in 1.4. `sparse_output` is ignored unless you leave `sparse` to its default value.\n",
      "  warnings.warn(\n",
      "c:\\Users\\wenjie\\anaconda3\\Lib\\site-packages\\sklearn\\preprocessing\\_encoders.py:972: FutureWarning: `sparse` was renamed to `sparse_output` in version 1.2 and will be removed in 1.4. `sparse_output` is ignored unless you leave `sparse` to its default value.\n",
      "  warnings.warn(\n"
     ]
    }
   ],
   "source": [
    "import numpy as np\n",
    "import pandas as pd\n",
    "from sklearn.preprocessing import OneHotEncoder\n",
    "\n",
    "def Normal(Data, max_values):\n",
    "    Data = Data.astype(np.float32)\n",
    "    for id in range(len(max_values)):\n",
    "        Data[:, id] = Data[:, id] / max_values[id]\n",
    "    return Data\n",
    "# 定义加载和处理数据的函数，包括数据扩充\n",
    "def load_and_process_data(paths, max_values, encoder, window_size=180, step=1):\n",
    "    X = []\n",
    "    Y = []\n",
    "    for category, path_list in enumerate(paths):\n",
    "        for path in path_list:\n",
    "            T_Data = pd.read_csv(path, header=0)\n",
    "            T_Data = np.array(T_Data)\n",
    "            for start_row in range(0, T_Data.shape[0] - window_size + 1, step):\n",
    "                Data_E = T_Data[start_row:start_row + window_size, 1:]\n",
    "                Data_E = Normal(Data_E, max_values)\n",
    "                X.append(Data_E.flatten())\n",
    "                Y.append(category)\n",
    "    X = np.array(X)\n",
    "    Y = np.array(Y).reshape(-1, 1)\n",
    "    Y = encoder.fit_transform(Y)\n",
    "    return X, Y\n",
    "\n",
    "# 定义最大值列表\n",
    "max_values_list = [1200, 1200, 1200, 1200, 0.5, 700, 12, 15, 10, 200, 20, 10, 10, 10, 30, 40]\n",
    "\n",
    "# 初始化 OneHotEncoder\n",
    "encoder = OneHotEncoder(sparse=False)\n",
    "\n",
    "# 构建文件路径\n",
    "train_paths = [\n",
    "    ['Dataset/train/AddWeight/AddWeight_'+str(i)+'.csv' for i in range(214)],\n",
    "    ['Dataset/train/Normal/Normal_'+str(i)+'.csv' for i in range(146)],\n",
    "    ['Dataset/train/PressureGain_constant/PressureGain_constant_'+str(i)+'.csv' for i in range(213)],\n",
    "    ['Dataset/train/PropellerDamage_bad/PropellerDamage_bad_'+str(i)+'.csv' for i in range(199)],\n",
    "    ['Dataset/train/PropellerDamage_slight/PropellerDamage_slight_'+str(i)+'.csv' for i in range(208)]\n",
    "]\n",
    "\n",
    "test_paths = [\n",
    "    ['Dataset/test/AddWeight/AddWeight_'+str(i)+'.csv' for i in range(54)],\n",
    "    ['Dataset/test/Normal/Normal_'+str(i)+'.csv' for i in range(36)],\n",
    "    ['Dataset/test/PressureGain_constant/PressureGain_constant_'+str(i)+'.csv' for i in range(53)],\n",
    "    ['Dataset/test/PropellerDamage_bad/PropellerDamage_bad_'+str(i)+'.csv' for i in range(50)],\n",
    "    ['Dataset/test/PropellerDamage_slight/PropellerDamage_slight_'+str(i)+'.csv' for i in range(52)]\n",
    "]\n",
    "\n",
    "# 加载和处理训练集和测试集\n",
    "Xtrain, Ytrain = load_and_process_data(train_paths, max_values_list, encoder)\n",
    "Xtest, Ytest = load_and_process_data(test_paths, max_values_list, encoder)\n"
   ]
  },
  {
   "cell_type": "code",
   "execution_count": 11,
   "metadata": {},
   "outputs": [],
   "source": [
    "import numpy as np\n",
    "\n",
    "# 保存训练数据\n",
    "np.save('Xtrain_ex.npy', Xtrain)\n",
    "np.save('Ytrain_ex.npy', Ytrain)\n",
    "\n",
    "# 保存测试数据\n",
    "np.save('Xtest_ex.npy', Xtest)\n",
    "np.save('Ytest_ex.npy', Ytest)\n"
   ]
  }
 ],
 "metadata": {
  "kernelspec": {
   "display_name": "base",
   "language": "python",
   "name": "python3"
  },
  "language_info": {
   "codemirror_mode": {
    "name": "ipython",
    "version": 3
   },
   "file_extension": ".py",
   "mimetype": "text/x-python",
   "name": "python",
   "nbconvert_exporter": "python",
   "pygments_lexer": "ipython3",
   "version": "3.11.4"
  }
 },
 "nbformat": 4,
 "nbformat_minor": 2
}
