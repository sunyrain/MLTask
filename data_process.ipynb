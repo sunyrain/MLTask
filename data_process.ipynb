{
 "cells": [
  {
   "cell_type": "code",
   "execution_count": 3,
   "metadata": {},
   "outputs": [
    {
     "name": "stderr",
     "output_type": "stream",
     "text": [
      "c:\\Users\\wenjie\\anaconda3\\Lib\\site-packages\\sklearn\\preprocessing\\_encoders.py:972: FutureWarning: `sparse` was renamed to `sparse_output` in version 1.2 and will be removed in 1.4. `sparse_output` is ignored unless you leave `sparse` to its default value.\n",
      "  warnings.warn(\n",
      "c:\\Users\\wenjie\\anaconda3\\Lib\\site-packages\\sklearn\\preprocessing\\_encoders.py:972: FutureWarning: `sparse` was renamed to `sparse_output` in version 1.2 and will be removed in 1.4. `sparse_output` is ignored unless you leave `sparse` to its default value.\n",
      "  warnings.warn(\n"
     ]
    }
   ],
   "source": [
    "import numpy as np\n",
    "import pandas as pd\n",
    "from sklearn.preprocessing import OneHotEncoder\n",
    "from sklearn.ensemble import IsolationForest\n",
    "from sklearn.utils import shuffle\n",
    "\n",
    "def normalize_data(data, max_values):\n",
    "    data = data.astype(np.float32)\n",
    "    for i in range(len(max_values)):\n",
    "        data[:, i] /= max_values[i]\n",
    "    return data\n",
    "\n",
    "def detect_anomalies(data):\n",
    "    iso_forest = IsolationForest(n_estimators=100, contamination='auto')\n",
    "    return iso_forest.fit_predict(data) == 1\n",
    "\n",
    "def load_and_process_data(paths, max_values, anomaly_detection=False, data_augmentation=False, use_one_hot_encoding=False, shuffle_data=False, window_size=180, step=1):\n",
    "    X, Y = [], []\n",
    "    for category, path_list in enumerate(paths):\n",
    "        category_data = []\n",
    "        for path in path_list:\n",
    "            T_Data = pd.read_csv(path, header=0)\n",
    "            T_Data = np.array(T_Data)\n",
    "            if data_augmentation:\n",
    "                for start_row in range(0, T_Data.shape[0] - window_size + 1, step):\n",
    "                    Data_E = T_Data[start_row:start_row + window_size, 1:]\n",
    "                    Data_E = normalize_data(Data_E, max_values)\n",
    "                    category_data.append(Data_E.flatten())\n",
    "            elif T_Data.shape[0] >= 180:\n",
    "                Data_E1 = T_Data[0:180, 1:]\n",
    "                Data_E1 = normalize_data(Data_E1, max_values)\n",
    "                category_data.append(Data_E1.flatten())\n",
    "\n",
    "        category_data = np.array(category_data)\n",
    "        if anomaly_detection:\n",
    "            normal_samples = detect_anomalies(category_data)\n",
    "            category_data = category_data[normal_samples]\n",
    "\n",
    "        X.extend(category_data.tolist())\n",
    "        Y.extend([category] * len(category_data))\n",
    "\n",
    "    X = np.array(X)\n",
    "    Y = np.array(Y).reshape(-1, 1)\n",
    "    Y = Y\n",
    "\n",
    "    if use_one_hot_encoding:\n",
    "        encoder = OneHotEncoder(sparse=False)\n",
    "        Y = encoder.fit_transform(Y)\n",
    "    \n",
    "    if shuffle_data:\n",
    "        X, Y = shuffle(X, Y)\n",
    "    return X, Y\n",
    "\n",
    "\n",
    "max_values_list = [1300, 1300, 1300, 1300, 1.5, 800, 13, 30, 20, 200, 20, 15, 20, 70, 90, 40]\n",
    "#max_values_list = [ 0.5, 700, 12, 15, 10, 200, 20, 10, 10, 10, 30, 40]\n",
    "# 构建文件路径\n",
    "train_paths = [\n",
    "    ['Dataset/train/AddWeight/AddWeight_'+str(i)+'.csv' for i in range(214)],\n",
    "    ['Dataset/train/Normal/Normal_'+str(i)+'.csv' for i in range(146)],\n",
    "    ['Dataset/train/PressureGain_constant/PressureGain_constant_'+str(i)+'.csv' for i in range(213)],\n",
    "    ['Dataset/train/PropellerDamage_bad/PropellerDamage_bad_'+str(i)+'.csv' for i in range(199)],\n",
    "    ['Dataset/train/PropellerDamage_slight/PropellerDamage_slight_'+str(i)+'.csv' for i in range(208)]\n",
    "]\n",
    "\n",
    "test_paths = [\n",
    "    ['Dataset/test/AddWeight/AddWeight_'+str(i)+'.csv' for i in range(54)],\n",
    "    ['Dataset/test/Normal/Normal_'+str(i)+'.csv' for i in range(36)],\n",
    "    ['Dataset/test/PressureGain_constant/PressureGain_constant_'+str(i)+'.csv' for i in range(53)],\n",
    "    ['Dataset/test/PropellerDamage_bad/PropellerDamage_bad_'+str(i)+'.csv' for i in range(50)],\n",
    "    ['Dataset/test/PropellerDamage_slight/PropellerDamage_slight_'+str(i)+'.csv' for i in range(52)]\n",
    "]\n",
    "Xtrain, Ytrain = load_and_process_data(train_paths, max_values_list, anomaly_detection=False, data_augmentation=False, use_one_hot_encoding=True, shuffle_data=False, window_size=180, step=4)\n",
    "Xtest, Ytest = load_and_process_data(test_paths, max_values_list, anomaly_detection=False, data_augmentation=False, use_one_hot_encoding=True, shuffle_data=False)\n"
   ]
  },
  {
   "cell_type": "code",
   "execution_count": 2,
   "metadata": {},
   "outputs": [],
   "source": [
    "np.save('SNNtrain_X_onehot.npy', Xtrain)\n",
    "np.save('SNNtrain_Y_onehot.npy', Ytrain)\n",
    "\n",
    "np.save('SNNtest_X_onehot.npy', Xtest)\n",
    "np.save('SNNtest_Y_onehot.npy', Ytest)"
   ]
  }
 ],
 "metadata": {
  "kernelspec": {
   "display_name": "base",
   "language": "python",
   "name": "python3"
  },
  "language_info": {
   "codemirror_mode": {
    "name": "ipython",
    "version": 3
   },
   "file_extension": ".py",
   "mimetype": "text/x-python",
   "name": "python",
   "nbconvert_exporter": "python",
   "pygments_lexer": "ipython3",
   "version": "3.11.4"
  }
 },
 "nbformat": 4,
 "nbformat_minor": 2
}
