{
 "cells": [
  {
   "cell_type": "code",
   "execution_count": 69,
   "metadata": {
    "tags": []
   },
   "outputs": [
    {
     "name": "stderr",
     "output_type": "stream",
     "text": [
      "100%|██████████| 30/30 [00:29<00:00,  1.01it/s]\n",
      "100%|██████████| 30/30 [00:29<00:00,  1.01it/s]\n",
      "100%|██████████| 30/30 [00:32<00:00,  1.10s/it]\n",
      "100%|██████████| 30/30 [00:43<00:00,  1.46s/it]\n",
      "100%|██████████| 30/30 [00:43<00:00,  1.45s/it]\n",
      "100%|██████████| 30/30 [00:43<00:00,  1.45s/it]\n",
      "100%|██████████| 30/30 [00:44<00:00,  1.47s/it]\n",
      "100%|██████████| 30/30 [00:37<00:00,  1.27s/it]\n",
      "100%|██████████| 30/30 [00:29<00:00,  1.03it/s]\n",
      "100%|██████████| 30/30 [00:29<00:00,  1.01it/s]\n"
     ]
    },
    {
     "name": "stdout",
     "output_type": "stream",
     "text": [
      "Ensemble Accuracy: 0.7224\n",
      "Ensemble F1 Score: 0.6894\n"
     ]
    }
   ],
   "source": [
    "import torch\n",
    "import torch.nn as nn\n",
    "import torch.optim as optim\n",
    "from torch.utils.data import TensorDataset, DataLoader\n",
    "from sklearn.metrics import f1_score, accuracy_score\n",
    "from sklearn.linear_model import LogisticRegression\n",
    "from sklearn.model_selection import train_test_split\n",
    "import numpy as np\n",
    "from tqdm import tqdm\n",
    "from collections import Counter\n",
    "device = torch.device(\"cuda\" if torch.cuda.is_available() else \"cpu\")\n",
    "\n",
    "# RNN分类器\n",
    "class RNNClassifier(nn.Module):\n",
    "    def __init__(self, input_size, hidden_size, output_size, num_layers=1):\n",
    "        super(RNNClassifier, self).__init__()\n",
    "        self.hidden_size = hidden_size\n",
    "        self.num_layers = num_layers\n",
    "        self.rnn = nn.RNN(input_size, hidden_size, num_layers, batch_first=True)\n",
    "        self.fc = nn.Linear(hidden_size, output_size)\n",
    "\n",
    "    def forward(self, x):\n",
    "        h0 = torch.zeros(self.num_layers, x.size(0), self.hidden_size).to(x.device)\n",
    "        out, _ = self.rnn(x, h0)\n",
    "        out = out[:, -1, :]  # 取最后一个时间步的输出\n",
    "        out = self.fc(out)\n",
    "        return out\n",
    "\n",
    "# 加载数据\n",
    "def load_data(file_name):\n",
    "    with np.load(file_name) as data:\n",
    "        data_array = data['data']\n",
    "        labels_array = data['labels']\n",
    "    return data_array, labels_array\n",
    "\n",
    "# 转换为PyTorch张量\n",
    "def to_tensor(data, labels):\n",
    "    data_tensor = torch.Tensor(data)\n",
    "    labels_tensor = torch.LongTensor(labels.argmax(axis=1))\n",
    "    return data_tensor, labels_tensor\n",
    "\n",
    "# 数据加载\n",
    "train_data, train_labels = load_data('trainset_normalized.npz')\n",
    "test_data, test_labels = load_data('testset_normalized.npz')\n",
    "\n",
    "train_data_tensor, train_labels_tensor = to_tensor(train_data, train_labels)\n",
    "test_data_tensor, test_labels_tensor = to_tensor(test_data, test_labels)\n",
    "\n",
    "# 创建DataLoader\n",
    "batch_size = 32\n",
    "train_loader = DataLoader(TensorDataset(train_data_tensor, train_labels_tensor), batch_size=batch_size, shuffle=True)\n",
    "test_loader = DataLoader(TensorDataset(test_data_tensor, test_labels_tensor), batch_size=batch_size, shuffle=False)\n",
    "\n",
    "# 模型参数\n",
    "input_size = 16  # 特征数量\n",
    "hidden_size = 512  # 隐藏层大小\n",
    "output_size = 5  # 输出类别数量\n",
    "num_layers = 3  # RNN层数\n",
    "learning_rate =  0.0003242487387355423\n",
    "num_epochs = 30\n",
    "num_models = 5\n",
    "# 初始化模型\n",
    "model = RNNClassifier(input_size, hidden_size, output_size, num_layers).to(device)\n",
    "#{'batch_size': 32, 'learning_rate': 0.0003242487387355423, 'hidden_size': 512, 'num_layers': 3, 'num_epochs': 30}. Best is trial 64 with value: 0.763265306122449.\n",
    "\n",
    "# 损失函数和优化器\n",
    "criterion = nn.CrossEntropyLoss()\n",
    "optimizer = optim.Adam(model.parameters(), lr=learning_rate)\n",
    "\n",
    "# 训练模型\n",
    "models = []\n",
    "for i in range(num_models):\n",
    "    model = RNNClassifier(input_size, hidden_size, output_size, num_layers).to(device)\n",
    "    models.append(model)\n",
    "\n",
    "# 训练每个模型\n",
    "for model in models:\n",
    "    optimizer = optim.Adam(model.parameters(), lr=learning_rate)\n",
    "    criterion = nn.CrossEntropyLoss()\n",
    "    for epoch in tqdm(range(num_epochs)):\n",
    "        model.train()\n",
    "        for inputs, labels in train_loader:\n",
    "            inputs, labels = inputs.to(device), labels.to(device)\n",
    "            optimizer.zero_grad()\n",
    "            outputs = model(inputs)\n",
    "            loss = criterion(outputs, labels)\n",
    "            loss.backward()\n",
    "            optimizer.step()\n",
    "\n",
    "# 评估模型\n",
    "predictions = []\n",
    "for model in models:\n",
    "    model.eval()\n",
    "    model_preds = []\n",
    "    with torch.no_grad():\n",
    "        for inputs, _ in test_loader:\n",
    "            inputs = inputs.to(device)\n",
    "            outputs = model(inputs)\n",
    "            _, predicted = torch.max(outputs, 1)\n",
    "            model_preds.extend(predicted.cpu().numpy())\n",
    "    predictions.append(model_preds)\n",
    "\n",
    "# 转换标签为一维数组\n",
    "all_labels = test_labels_tensor.numpy()\n",
    "\n",
    "# 集成模型预测\n",
    "ensemble_preds = []\n",
    "for i in range(len(predictions[0])):\n",
    "    # 对每个样本，获取所有模型的预测并进行投票\n",
    "    votes = [predictions[j][i] for j in range(num_models)]\n",
    "    most_common = Counter(votes).most_common(1)[0][0]\n",
    "    ensemble_preds.append(most_common)\n",
    "\n",
    "# 计算准确率和F1分数\n",
    "accuracy = accuracy_score(all_labels, ensemble_preds)\n",
    "f1 = f1_score(all_labels, ensemble_preds, average='weighted')\n",
    "\n",
    "print(f'Ensemble Accuracy: {accuracy:.4f}')\n",
    "print(f'Ensemble F1 Score: {f1:.4f}')"
   ]
  },
  {
   "cell_type": "code",
   "execution_count": null,
   "metadata": {
    "tags": []
   },
   "outputs": [
    {
     "name": "stdout",
     "output_type": "stream",
     "text": [
      "Ensemble Accuracy: 0.6857\n",
      "Ensemble F1 Score: 0.6444\n"
     ]
    }
   ],
   "source": []
  },
  {
   "cell_type": "code",
   "execution_count": null,
   "metadata": {},
   "outputs": [],
   "source": []
  },
  {
   "cell_type": "code",
   "execution_count": null,
   "metadata": {},
   "outputs": [],
   "source": []
  }
 ],
 "metadata": {
  "kernelspec": {
   "display_name": "Python 3 (ipykernel)",
   "language": "python",
   "name": "python3"
  },
  "language_info": {
   "codemirror_mode": {
    "name": "ipython",
    "version": 3
   },
   "file_extension": ".py",
   "mimetype": "text/x-python",
   "name": "python",
   "nbconvert_exporter": "python",
   "pygments_lexer": "ipython3",
   "version": "3.8.10"
  }
 },
 "nbformat": 4,
 "nbformat_minor": 4
}
