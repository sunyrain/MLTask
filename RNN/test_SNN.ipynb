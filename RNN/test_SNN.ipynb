{
 "cells": [
  {
   "cell_type": "code",
   "execution_count": 5,
   "metadata": {},
   "outputs": [],
   "source": [
    "import torch\n",
    "from spikingjelly.timing_based import encoding, neuron\n",
    "import torch.nn as nn\n",
    "import torch.optim as optim\n",
    "\n",
    "# 假设data是您的数据集，labels是相应的标签\n",
    "# data.shape = [samples, 190, 16], labels.shape = [samples]\n",
    "\n",
    "# 初始化GaussianTuning编码器\n",
    "n = 16  # 传感器数量\n",
    "m = 50  # 每个特征使用的神经元数量\n",
    "x_min = torch.zeros(n)\n",
    "x_max = torch.ones(n)\n",
    "encoder = encoding.GaussianTuning(n, m, x_min, x_max)"
   ]
  },
  {
   "cell_type": "code",
   "execution_count": null,
   "metadata": {},
   "outputs": [],
   "source": []
  }
 ],
 "metadata": {
  "kernelspec": {
   "display_name": "base",
   "language": "python",
   "name": "python3"
  },
  "language_info": {
   "codemirror_mode": {
    "name": "ipython",
    "version": 3
   },
   "file_extension": ".py",
   "mimetype": "text/x-python",
   "name": "python",
   "nbconvert_exporter": "python",
   "pygments_lexer": "ipython3",
   "version": "3.11.4"
  }
 },
 "nbformat": 4,
 "nbformat_minor": 2
}
