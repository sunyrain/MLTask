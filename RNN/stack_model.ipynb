{
 "cells": [
  {
   "cell_type": "code",
   "execution_count": 4,
   "metadata": {
    "tags": []
   },
   "outputs": [
    {
     "name": "stderr",
     "output_type": "stream",
     "text": [
      "Training model: 100%|██████████| 10/10 [00:49<00:00,  4.92s/it]\n",
      "Training model: 100%|██████████| 10/10 [00:52<00:00,  5.22s/it]\n",
      "Training model: 100%|██████████| 10/10 [00:56<00:00,  5.64s/it]\n",
      "Training model: 100%|██████████| 10/10 [00:53<00:00,  5.36s/it]\n",
      "Training model: 100%|██████████| 10/10 [00:57<00:00,  5.75s/it]\n"
     ]
    },
    {
     "ename": "ValueError",
     "evalue": "This solver needs samples of at least 2 classes in the data, but the data contains only one class: 0",
     "output_type": "error",
     "traceback": [
      "\u001b[1;31m---------------------------------------------------------------------------\u001b[0m",
      "\u001b[1;31mValueError\u001b[0m                                Traceback (most recent call last)",
      "Cell \u001b[1;32mIn[4], line 96\u001b[0m\n\u001b[0;32m     94\u001b[0m stacked_predictions \u001b[38;5;241m=\u001b[39m np\u001b[38;5;241m.\u001b[39mcolumn_stack(base_model_predictions)\n\u001b[0;32m     95\u001b[0m meta_model \u001b[38;5;241m=\u001b[39m LogisticRegression()\n\u001b[1;32m---> 96\u001b[0m meta_model\u001b[38;5;241m.\u001b[39mfit(stacked_predictions, val_y\u001b[38;5;241m.\u001b[39mnumpy())\n\u001b[0;32m     98\u001b[0m \u001b[38;5;66;03m# 使用元模型进行最终预测\u001b[39;00m\n\u001b[0;32m     99\u001b[0m final_predictions \u001b[38;5;241m=\u001b[39m meta_model\u001b[38;5;241m.\u001b[39mpredict(stacked_predictions)\n",
      "File \u001b[1;32mc:\\Users\\wenjie\\anaconda3\\Lib\\site-packages\\sklearn\\base.py:1151\u001b[0m, in \u001b[0;36m_fit_context.<locals>.decorator.<locals>.wrapper\u001b[1;34m(estimator, *args, **kwargs)\u001b[0m\n\u001b[0;32m   1144\u001b[0m     estimator\u001b[38;5;241m.\u001b[39m_validate_params()\n\u001b[0;32m   1146\u001b[0m \u001b[38;5;28;01mwith\u001b[39;00m config_context(\n\u001b[0;32m   1147\u001b[0m     skip_parameter_validation\u001b[38;5;241m=\u001b[39m(\n\u001b[0;32m   1148\u001b[0m         prefer_skip_nested_validation \u001b[38;5;129;01mor\u001b[39;00m global_skip_validation\n\u001b[0;32m   1149\u001b[0m     )\n\u001b[0;32m   1150\u001b[0m ):\n\u001b[1;32m-> 1151\u001b[0m     \u001b[38;5;28;01mreturn\u001b[39;00m fit_method(estimator, \u001b[38;5;241m*\u001b[39margs, \u001b[38;5;241m*\u001b[39m\u001b[38;5;241m*\u001b[39mkwargs)\n",
      "File \u001b[1;32mc:\\Users\\wenjie\\anaconda3\\Lib\\site-packages\\sklearn\\linear_model\\_logistic.py:1252\u001b[0m, in \u001b[0;36mLogisticRegression.fit\u001b[1;34m(self, X, y, sample_weight)\u001b[0m\n\u001b[0;32m   1250\u001b[0m classes_ \u001b[38;5;241m=\u001b[39m \u001b[38;5;28mself\u001b[39m\u001b[38;5;241m.\u001b[39mclasses_\n\u001b[0;32m   1251\u001b[0m \u001b[38;5;28;01mif\u001b[39;00m n_classes \u001b[38;5;241m<\u001b[39m \u001b[38;5;241m2\u001b[39m:\n\u001b[1;32m-> 1252\u001b[0m     \u001b[38;5;28;01mraise\u001b[39;00m \u001b[38;5;167;01mValueError\u001b[39;00m(\n\u001b[0;32m   1253\u001b[0m         \u001b[38;5;124m\"\u001b[39m\u001b[38;5;124mThis solver needs samples of at least 2 classes\u001b[39m\u001b[38;5;124m\"\u001b[39m\n\u001b[0;32m   1254\u001b[0m         \u001b[38;5;124m\"\u001b[39m\u001b[38;5;124m in the data, but the data contains only one\u001b[39m\u001b[38;5;124m\"\u001b[39m\n\u001b[0;32m   1255\u001b[0m         \u001b[38;5;124m\"\u001b[39m\u001b[38;5;124m class: \u001b[39m\u001b[38;5;132;01m%r\u001b[39;00m\u001b[38;5;124m\"\u001b[39m\n\u001b[0;32m   1256\u001b[0m         \u001b[38;5;241m%\u001b[39m classes_[\u001b[38;5;241m0\u001b[39m]\n\u001b[0;32m   1257\u001b[0m     )\n\u001b[0;32m   1259\u001b[0m \u001b[38;5;28;01mif\u001b[39;00m \u001b[38;5;28mlen\u001b[39m(\u001b[38;5;28mself\u001b[39m\u001b[38;5;241m.\u001b[39mclasses_) \u001b[38;5;241m==\u001b[39m \u001b[38;5;241m2\u001b[39m:\n\u001b[0;32m   1260\u001b[0m     n_classes \u001b[38;5;241m=\u001b[39m \u001b[38;5;241m1\u001b[39m\n",
      "\u001b[1;31mValueError\u001b[0m: This solver needs samples of at least 2 classes in the data, but the data contains only one class: 0"
     ]
    }
   ],
   "source": [
    "import torch\n",
    "import torch.nn as nn\n",
    "import torch.optim as optim\n",
    "from torch.utils.data import TensorDataset, DataLoader\n",
    "from sklearn.metrics import f1_score, accuracy_score\n",
    "from sklearn.linear_model import LogisticRegression\n",
    "import numpy as np\n",
    "from tqdm import tqdm\n",
    "from sklearn.model_selection import train_test_split\n",
    "device = torch.device(\"cuda\" if torch.cuda.is_available() else \"cpu\")\n",
    "\n",
    "# RNN分类器\n",
    "class RNNClassifier(nn.Module):\n",
    "    def __init__(self, input_size, hidden_size, output_size, num_layers=1):\n",
    "        super(RNNClassifier, self).__init__()\n",
    "        self.hidden_size = hidden_size\n",
    "        self.num_layers = num_layers\n",
    "        self.rnn = nn.RNN(input_size, hidden_size, num_layers, batch_first=True)\n",
    "        self.fc = nn.Linear(hidden_size, output_size)\n",
    "\n",
    "    def forward(self, x):\n",
    "        h0 = torch.zeros(self.num_layers, x.size(0), self.hidden_size).to(x.device)\n",
    "        out, _ = self.rnn(x, h0)\n",
    "        out = out[:, -1, :]\n",
    "        out = self.fc(out)\n",
    "        return out\n",
    "\n",
    "# 加载数据\n",
    "def load_data(file_name):\n",
    "    with np.load(file_name) as data:\n",
    "        data_array = data['data']\n",
    "        labels_array = data['labels']\n",
    "    return data_array, labels_array\n",
    "\n",
    "# 转换为PyTorch张量\n",
    "def to_tensor(data, labels):\n",
    "    data_tensor = torch.Tensor(data)\n",
    "    labels_tensor = torch.LongTensor(labels.argmax(axis=1))\n",
    "    return data_tensor, labels_tensor\n",
    "\n",
    "# 数据加载\n",
    "train_data, train_labels = load_data('trainset_normalized_no.npz')\n",
    "test_data, test_labels = load_data('testset_normalized_no.npz')\n",
    "\n",
    "train_data_tensor, train_labels_tensor = to_tensor(train_data, train_labels)\n",
    "test_data_tensor, test_labels_tensor = to_tensor(test_data, test_labels)\n",
    "\n",
    "# 拆分数据为训练集和验证集\n",
    "train_X, val_X, train_y, val_y = train_test_split(train_data_tensor, train_labels_tensor, test_size=0.2)\n",
    "\n",
    "# 创建DataLoader\n",
    "batch_size = 32\n",
    "train_loader = DataLoader(TensorDataset(train_X, train_y), batch_size=batch_size, shuffle=True)\n",
    "\n",
    "# 模型参数\n",
    "input_size = 16  # 特征数量\n",
    "hidden_size = 256  # 隐藏层大小\n",
    "output_size = 5  # 输出类别数量\n",
    "num_layers = 3  # RNN层数\n",
    "learning_rate = 0.0003242487387355423\n",
    "num_epochs = 10\n",
    "num_models = 5\n",
    "\n",
    "# 初始化模型\n",
    "models = [RNNClassifier(input_size, hidden_size, output_size, num_layers).to(device) for _ in range(num_models)]\n",
    "\n",
    "# 训练每个模型并收集它们在验证集上的预测\n",
    "base_model_predictions = []\n",
    "for model in models:\n",
    "    optimizer = optim.Adam(model.parameters(), lr=learning_rate)\n",
    "    criterion = nn.CrossEntropyLoss()\n",
    "    for epoch in tqdm(range(num_epochs), desc=\"Training model\"):\n",
    "        model.train()\n",
    "        for inputs, labels in train_loader:\n",
    "            inputs, labels = inputs.to(device), labels.to(device)\n",
    "            optimizer.zero_grad()\n",
    "            outputs = model(inputs)\n",
    "            loss = criterion(outputs, labels)\n",
    "            loss.backward()\n",
    "            optimizer.step()\n",
    "\n",
    "    # 收集模型在验证集上的预测\n",
    "    model.eval()\n",
    "    predictions = []\n",
    "    with torch.no_grad():\n",
    "        for inputs, _ in DataLoader(TensorDataset(val_X, val_y), batch_size=batch_size):\n",
    "            inputs = inputs.to(device)\n",
    "            outputs = model(inputs)\n",
    "            _, predicted = torch.max(outputs, 1)\n",
    "            predictions.extend(predicted.cpu().numpy())\n",
    "    base_model_predictions.append(predictions)\n",
    "\n",
    "\n",
    "stacked_predictions = np.column_stack(base_model_predictions)\n",
    "meta_model = LogisticRegression()\n",
    "meta_model.fit(stacked_predictions, val_y.numpy())\n",
    "final_predictions = meta_model.predict(stacked_predictions)\n",
    "\n",
    "# 计算准确率和F1分数\n",
    "accuracy = accuracy_score(val_y.numpy(), final_predictions)\n",
    "f1 = f1_score(val_y.numpy(), final_predictions, average='weighted')\n",
    "\n",
    "print(f'Stacked Model Accuracy: {accuracy:.4f}')\n",
    "print(f'Stacked Model F1 Score: {f1:.4f}')"
   ]
  },
  {
   "cell_type": "code",
   "execution_count": null,
   "metadata": {
    "tags": []
   },
   "outputs": [
    {
     "name": "stdout",
     "output_type": "stream",
     "text": [
      "Ensemble Accuracy: 0.6857\n",
      "Ensemble F1 Score: 0.6444\n"
     ]
    }
   ],
   "source": []
  },
  {
   "cell_type": "code",
   "execution_count": null,
   "metadata": {},
   "outputs": [],
   "source": []
  },
  {
   "cell_type": "code",
   "execution_count": null,
   "metadata": {},
   "outputs": [],
   "source": []
  }
 ],
 "metadata": {
  "kernelspec": {
   "display_name": "Python 3 (ipykernel)",
   "language": "python",
   "name": "python3"
  },
  "language_info": {
   "codemirror_mode": {
    "name": "ipython",
    "version": 3
   },
   "file_extension": ".py",
   "mimetype": "text/x-python",
   "name": "python",
   "nbconvert_exporter": "python",
   "pygments_lexer": "ipython3",
   "version": "3.11.4"
  }
 },
 "nbformat": 4,
 "nbformat_minor": 4
}
