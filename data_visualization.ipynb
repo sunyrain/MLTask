{
 "cells": [
  {
   "cell_type": "code",
   "execution_count": 1,
   "id": "initial_id",
   "metadata": {
    "collapsed": true,
    "ExecuteTime": {
     "end_time": "2023-12-19T03:19:47.497932Z",
     "start_time": "2023-12-19T03:19:47.418868Z"
    }
   },
   "outputs": [],
   "source": [
    "import numpy as np\n",
    "def load_data(file_name):\n",
    "    with np.load(file_name) as data:\n",
    "        data_array = data['data']\n",
    "        labels_array = data['labels']\n",
    "    return data_array, labels_array\n",
    "\n",
    "train_data, train_labels = load_data('trainset_normalized.npz')"
   ]
  },
  {
   "cell_type": "code",
   "execution_count": null,
   "outputs": [],
   "source": [],
   "metadata": {
    "collapsed": false
   },
   "id": "d2de989495d96c4a"
  }
 ],
 "metadata": {
  "kernelspec": {
   "display_name": "Python 3",
   "language": "python",
   "name": "python3"
  },
  "language_info": {
   "codemirror_mode": {
    "name": "ipython",
    "version": 2
   },
   "file_extension": ".py",
   "mimetype": "text/x-python",
   "name": "python",
   "nbconvert_exporter": "python",
   "pygments_lexer": "ipython2",
   "version": "2.7.6"
  }
 },
 "nbformat": 4,
 "nbformat_minor": 5
}
