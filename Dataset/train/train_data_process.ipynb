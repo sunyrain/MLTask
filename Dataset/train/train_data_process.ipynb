{
 "cells": [
  {
   "cell_type": "code",
   "execution_count": 1,
   "metadata": {},
   "outputs": [
    {
     "name": "stdout",
     "output_type": "stream",
     "text": [
      "Error: Normal_130.csv has 164 rows.\n",
      "Error: Normal_73.csv has 136 rows.\n",
      "Error: Normal_8.csv has 172 rows.\n",
      "Error: PropellerDamage_bad_166.csv has 146 rows.\n",
      "Error: PropellerDamage_slight_130.csv has 146 rows.\n",
      "Global min: [ 1.0000e+03  1.0000e+03  1.0000e+03  1.0000e+03 -1.2000e-01  5.8400e+02\n",
      "  1.1430e+01 -1.6080e+01 -1.7210e+01 -1.8001e+02 -1.9600e+01 -1.8730e+01\n",
      " -1.7330e+01 -9.7500e+01 -7.2400e+01 -1.1039e+03]\n",
      "Normalized train set and labels saved as trainset_normalized.npz\n"
     ]
    },
    {
     "name": "stderr",
     "output_type": "stream",
     "text": [
      "c:\\Users\\wenjie\\anaconda3\\Lib\\site-packages\\sklearn\\preprocessing\\_encoders.py:972: FutureWarning: `sparse` was renamed to `sparse_output` in version 1.2 and will be removed in 1.4. `sparse_output` is ignored unless you leave `sparse` to its default value.\n",
      "  warnings.warn(\n"
     ]
    }
   ],
   "source": [
    "import os\n",
    "import pandas as pd\n",
    "import numpy as np\n",
    "from sklearn.preprocessing import OneHotEncoder\n",
    "\n",
    "folders = ['Normal', 'AddWeight', 'PressureGain_constant', 'PropellerDamage_bad', 'PropellerDamage_slight']\n",
    "labels = np.arange(len(folders))\n",
    "\n",
    "data_list = []\n",
    "label_list = []\n",
    "\n",
    "for label, folder in zip(labels, folders):\n",
    "    files = os.listdir(folder)\n",
    "    for file in files:\n",
    "        file_path = os.path.join(folder, file)\n",
    "        columns_to_read = range(1, 17)  \n",
    "        data = pd.read_csv(file_path, header=0, nrows=180, usecols=columns_to_read)\n",
    "        if data.shape[0] == 180:\n",
    "            data_list.append(data)\n",
    "            label_list.append(label)\n",
    "        else:\n",
    "            print(f'Error: {file} has {data.shape[0]} rows.')\n",
    "\n",
    "data_array = np.array(data_list)\n",
    "\n",
    "reshaped_data_array = data_array.reshape(-1, 16)\n",
    "\n",
    "global_min = reshaped_data_array.min(axis=0)\n",
    "global_max = reshaped_data_array.max(axis=0)\n",
    "print(f'Global min: {global_min}')\n",
    "\n",
    "normalized_data_array = (reshaped_data_array - global_min) / (global_max - global_min)\n",
    "\n",
    "normalized_data_array = normalized_data_array.reshape(-1, 180, 16)\n",
    "\n",
    "label_array = np.array(label_list).reshape(-1, 1)\n",
    "encoder = OneHotEncoder(sparse=False)\n",
    "encoded_labels = encoder.fit_transform(label_array)\n",
    "\n",
    "np.savez('trainset_normalized.npz', data=normalized_data_array, labels=label_array)\n",
    "\n",
    "print('Normalized train set and labels saved as trainset_normalized.npz')\n"
   ]
  }
 ],
 "metadata": {
  "kernelspec": {
   "display_name": "base",
   "language": "python",
   "name": "python3"
  },
  "language_info": {
   "codemirror_mode": {
    "name": "ipython",
    "version": 3
   },
   "file_extension": ".py",
   "mimetype": "text/x-python",
   "name": "python",
   "nbconvert_exporter": "python",
   "pygments_lexer": "ipython3",
   "version": "3.11.4"
  }
 },
 "nbformat": 4,
 "nbformat_minor": 2
}
