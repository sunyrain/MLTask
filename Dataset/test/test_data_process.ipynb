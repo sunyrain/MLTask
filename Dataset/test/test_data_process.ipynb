{
 "cells": [
  {
   "cell_type": "code",
   "execution_count": 9,
   "metadata": {},
   "outputs": [
    {
     "name": "stdout",
     "output_type": "stream",
     "text": [
      "(245, 5)\n",
      "[[1. 0. 0. 0. 0.]\n",
      " [1. 0. 0. 0. 0.]\n",
      " [1. 0. 0. 0. 0.]\n",
      " ...\n",
      " [0. 0. 0. 0. 1.]\n",
      " [0. 0. 0. 0. 1.]\n",
      " [0. 0. 0. 0. 1.]]\n",
      "(245, 180, 16)\n",
      "(245, 5)\n",
      "Normalized test set and labels saved as testset_normalized.npz\n"
     ]
    }
   ],
   "source": [
    "import os\n",
    "import pandas as pd\n",
    "import numpy as np\n",
    "from sklearn.preprocessing import OneHotEncoder\n",
    "\n",
    "folders = ['Normal', 'AddWeight', 'PressureGain_constant', 'PropellerDamage_bad', 'PropellerDamage_slight']\n",
    "labels = np.arange(len(folders))\n",
    "\n",
    "data_list = []\n",
    "label_list = []\n",
    "\n",
    "for label, folder in zip(labels, folders):\n",
    "\n",
    "    files = os.listdir(folder)\n",
    "\n",
    "    for file in files:\n",
    "        file_path = os.path.join(folder, file)\n",
    "        columns_to_read = range(1, 17)\n",
    "        data = pd.read_csv(file_path, header=0, nrows=180, usecols=columns_to_read)\n",
    "        if data.shape[0] == 180:\n",
    "            data_list.append(data)\n",
    "            label_list.append(label)\n",
    "        else:\n",
    "            print(f'Error: {file} has {data.shape[0]} rows.')\n",
    "\n",
    "data_array = np.array(data_list)\n",
    "\n",
    "reshaped_data_array = data_array.reshape(-1, 16)\n",
    "\n",
    "#global_min = reshaped_data_array.min(axis=0)\n",
    "global_max = [1300, 1300, 1300, 1300, 1.5, 800, 13, 30, 20, 200, 20, 15, 20, 70, 90, 40]\n",
    "normalized_data_array = (reshaped_data_array /global_max )\n",
    "\n",
    "normalized_data_array = normalized_data_array.reshape(-1, 180, 16)\n",
    "\n",
    "label_array = np.array(label_list).reshape(-1, 1)\n",
    "encoder = OneHotEncoder(sparse_output=False)\n",
    "encoded_labels = encoder.fit_transform(label_array)\n",
    "print(encoded_labels.shape)\n",
    "print(encoded_labels)\n",
    "np.savez('testset_normalized.npz', data=normalized_data_array, labels=encoded_labels)\n",
    "dataset = np.load('testset_normalized.npz')\n",
    "print(dataset['data'].shape)\n",
    "print(dataset['labels'].shape)\n",
    "print('Normalized test set and labels saved as testset_normalized.npz')\n",
    "#[1200, 1200, 1200, 1200, 0.5, 700, 12, 15, 10, 200, 20, 10, 10, 10, 30, 40]"
   ]
  }
 ],
 "metadata": {
  "kernelspec": {
   "display_name": "base",
   "language": "python",
   "name": "python3"
  },
  "language_info": {
   "codemirror_mode": {
    "name": "ipython",
    "version": 3
   },
   "file_extension": ".py",
   "mimetype": "text/x-python",
   "name": "python",
   "nbconvert_exporter": "python",
   "pygments_lexer": "ipython3",
   "version": "3.11.4"
  }
 },
 "nbformat": 4,
 "nbformat_minor": 2
}
