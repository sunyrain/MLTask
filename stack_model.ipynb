{
 "cells": [
  {
   "cell_type": "code",
   "execution_count": 5,
   "metadata": {
    "tags": []
   },
   "outputs": [
    {
     "name": "stderr",
     "output_type": "stream",
     "text": [
      "Training model: 100%|██████████| 30/30 [00:35<00:00,  1.18s/it]\n",
      "Training model: 100%|██████████| 30/30 [00:34<00:00,  1.16s/it]\n",
      "Training model: 100%|██████████| 30/30 [00:35<00:00,  1.17s/it]\n",
      "Training model: 100%|██████████| 30/30 [00:35<00:00,  1.17s/it]\n",
      "Training model: 100%|██████████| 30/30 [00:35<00:00,  1.18s/it]\n",
      "Training model: 100%|██████████| 30/30 [00:35<00:00,  1.18s/it]"
     ]
    },
    {
     "name": "stdout",
     "output_type": "stream",
     "text": [
      "Stacked Model Accuracy: 0.8000\n",
      "Stacked Model F1 Score: 0.7879\n"
     ]
    },
    {
     "name": "stderr",
     "output_type": "stream",
     "text": [
      "\n",
      "/root/miniconda3/lib/python3.8/site-packages/sklearn/linear_model/_logistic.py:460: ConvergenceWarning: lbfgs failed to converge (status=1):\n",
      "STOP: TOTAL NO. of ITERATIONS REACHED LIMIT.\n",
      "\n",
      "Increase the number of iterations (max_iter) or scale the data as shown in:\n",
      "    https://scikit-learn.org/stable/modules/preprocessing.html\n",
      "Please also refer to the documentation for alternative solver options:\n",
      "    https://scikit-learn.org/stable/modules/linear_model.html#logistic-regression\n",
      "  n_iter_i = _check_optimize_result(\n"
     ]
    }
   ],
   "source": [
    "import torch\n",
    "import torch.nn as nn\n",
    "import torch.optim as optim\n",
    "from torch.utils.data import TensorDataset, DataLoader\n",
    "from sklearn.metrics import f1_score, accuracy_score\n",
    "from sklearn.linear_model import LogisticRegression\n",
    "import numpy as np\n",
    "from tqdm import tqdm\n",
    "from sklearn.model_selection import train_test_split\n",
    "device = torch.device(\"cuda\" if torch.cuda.is_available() else \"cpu\")\n",
    "\n",
    "# RNN分类器\n",
    "class RNNClassifier(nn.Module):\n",
    "    def __init__(self, input_size, hidden_size, output_size, num_layers=1):\n",
    "        super(RNNClassifier, self).__init__()\n",
    "        self.hidden_size = hidden_size\n",
    "        self.num_layers = num_layers\n",
    "        self.rnn = nn.RNN(input_size, hidden_size, num_layers, batch_first=True)\n",
    "        self.fc = nn.Linear(hidden_size, output_size)\n",
    "\n",
    "    def forward(self, x):\n",
    "        h0 = torch.zeros(self.num_layers, x.size(0), self.hidden_size).to(x.device)\n",
    "        out, _ = self.rnn(x, h0)\n",
    "        out = out[:, -1, :]\n",
    "        out = self.fc(out)\n",
    "        return out\n",
    "\n",
    "# 加载数据\n",
    "def load_data(file_name):\n",
    "    with np.load(file_name) as data:\n",
    "        data_array = data['data']\n",
    "        labels_array = data['labels']\n",
    "    return data_array, labels_array\n",
    "\n",
    "# 转换为PyTorch张量\n",
    "def to_tensor(data, labels):\n",
    "    data_tensor = torch.Tensor(data)\n",
    "    labels_tensor = torch.LongTensor(labels.argmax(axis=1))\n",
    "    return data_tensor, labels_tensor\n",
    "\n",
    "# 数据加载\n",
    "train_data, train_labels = load_data('trainset_normalized.npz')\n",
    "test_data, test_labels = load_data('testset_normalized.npz')\n",
    "\n",
    "train_data_tensor, train_labels_tensor = to_tensor(train_data, train_labels)\n",
    "test_data_tensor, test_labels_tensor = to_tensor(test_data, test_labels)\n",
    "\n",
    "# 拆分数据为训练集和验证集\n",
    "train_X, val_X, train_y, val_y = train_test_split(train_data_tensor, train_labels_tensor, test_size=0.2)\n",
    "\n",
    "# 创建DataLoader\n",
    "batch_size = 32\n",
    "train_loader = DataLoader(TensorDataset(train_X, train_y), batch_size=batch_size, shuffle=True)\n",
    "\n",
    "# 模型参数\n",
    "input_size = 16  # 特征数量\n",
    "hidden_size = 512  # 隐藏层大小\n",
    "output_size = 5  # 输出类别数量\n",
    "num_layers = 3  # RNN层数\n",
    "learning_rate = 0.0003242487387355423\n",
    "num_epochs = 30\n",
    "num_models = 5\n",
    "\n",
    "# 初始化模型\n",
    "models = [RNNClassifier(input_size, hidden_size, output_size, num_layers).to(device) for _ in range(num_models)]\n",
    "\n",
    "# 训练每个模型并收集它们在验证集上的预测\n",
    "base_model_predictions = []\n",
    "for model in models:\n",
    "    optimizer = optim.Adam(model.parameters(), lr=learning_rate)\n",
    "    criterion = nn.CrossEntropyLoss()\n",
    "    for epoch in tqdm(range(num_epochs), desc=\"Training model\"):\n",
    "        model.train()\n",
    "        for inputs, labels in train_loader:\n",
    "            inputs, labels = inputs.to(device), labels.to(device)\n",
    "            optimizer.zero_grad()\n",
    "            outputs = model(inputs)\n",
    "            loss = criterion(outputs, labels)\n",
    "            loss.backward()\n",
    "            optimizer.step()\n",
    "\n",
    "    # 收集模型在验证集上的预测\n",
    "    model.eval()\n",
    "    predictions = []\n",
    "    with torch.no_grad():\n",
    "        for inputs, _ in DataLoader(TensorDataset(val_X, val_y), batch_size=batch_size):\n",
    "            inputs = inputs.to(device)\n",
    "            outputs = model(inputs)\n",
    "            _, predicted = torch.max(outputs, 1)\n",
    "            predictions.extend(predicted.cpu().numpy())\n",
    "    base_model_predictions.append(predictions)\n",
    "\n",
    "# 准备元模型的训练数据\n",
    "stacked_predictions = np.column_stack(base_model_predictions)\n",
    "meta_model = LogisticRegression()\n",
    "meta_model.fit(stacked_predictions, val_y.numpy())\n",
    "\n",
    "# 使用元模型进行最终预测\n",
    "final_predictions = meta_model.predict(stacked_predictions)\n",
    "\n",
    "# 计算准确率和F1分数\n",
    "accuracy = accuracy_score(val_y.numpy(), final_predictions)\n",
    "f1 = f1_score(val_y.numpy(), final_predictions, average='weighted')\n",
    "\n",
    "print(f'Stacked Model Accuracy: {accuracy:.4f}')\n",
    "print(f'Stacked Model F1 Score: {f1:.4f}')\n"
   ]
  },
  {
   "cell_type": "code",
   "execution_count": null,
   "metadata": {
    "tags": []
   },
   "outputs": [
    {
     "name": "stdout",
     "output_type": "stream",
     "text": [
      "Ensemble Accuracy: 0.6857\n",
      "Ensemble F1 Score: 0.6444\n"
     ]
    }
   ],
   "source": []
  },
  {
   "cell_type": "code",
   "execution_count": null,
   "metadata": {},
   "outputs": [],
   "source": []
  },
  {
   "cell_type": "code",
   "execution_count": null,
   "metadata": {},
   "outputs": [],
   "source": []
  }
 ],
 "metadata": {
  "kernelspec": {
   "display_name": "Python 3 (ipykernel)",
   "language": "python",
   "name": "python3"
  },
  "language_info": {
   "codemirror_mode": {
    "name": "ipython",
    "version": 3
   },
   "file_extension": ".py",
   "mimetype": "text/x-python",
   "name": "python",
   "nbconvert_exporter": "python",
   "pygments_lexer": "ipython3",
   "version": "3.8.10"
  }
 },
 "nbformat": 4,
 "nbformat_minor": 4
}
