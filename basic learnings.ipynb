{
 "cells": [
  {
   "cell_type": "code",
   "execution_count": 1,
   "metadata": {},
   "outputs": [],
   "source": [
    "import pandas as pd\n",
    "import numpy as np\n",
    "from sklearn.ensemble import RandomForestClassifier\n",
    "from sklearn.tree import DecisionTreeClassifier\n",
    "from sklearn.linear_model import LogisticRegression\n",
    "from sklearn.metrics import accuracy_score\n",
    "from sklearn.decomposition import PCA\n",
    "from sklearn.discriminant_analysis import LinearDiscriminantAnalysis as LDA\n",
    "from sklearn.ensemble import RandomForestClassifier\n",
    "from sklearn.metrics import accuracy_score, classification_report\n",
    "from tqdm import tqdm\n"
   ]
  },
  {
   "cell_type": "code",
   "execution_count": 2,
   "metadata": {},
   "outputs": [],
   "source": [
    "def load_data(train_path, test_path):\n",
    "    train_df = pd.read_csv(train_path)\n",
    "    test_df = pd.read_csv(test_path)\n",
    "    Xtrain = train_df.drop('Label', axis=1).values\n",
    "    Ytrain = train_df['Label'].values\n",
    "    Xtest = test_df.drop('Label', axis=1).values\n",
    "    Ytest = test_df['Label'].values\n",
    "    return Xtrain, Ytrain, Xtest, Ytest\n",
    "\n",
    "def apply_feature_extraction(Xtrain, Xtest, Ytrain):\n",
    "    model = PCA(n_components=0.99)\n",
    "    #输出特征数量\n",
    "    print(model.n_components)\n",
    "    Xtrain_transformed = model.fit_transform(Xtrain)\n",
    "    Xtest_transformed = model.transform(Xtest)\n",
    "    print(f\"Reduced number of features: {Xtrain_transformed.shape[1]}\")\n",
    "    return Xtrain_transformed, Xtest_transformed\n"
   ]
  },
  {
   "cell_type": "code",
   "execution_count": 10,
   "metadata": {},
   "outputs": [
    {
     "name": "stdout",
     "output_type": "stream",
     "text": [
      "0.99\n",
      "Reduced number of features: 617\n"
     ]
    }
   ],
   "source": [
    "Xtrain, Ytrain, Xtest, Ytest = load_data('train_dataset.csv', 'test_dataset.csv')\n",
    "Xtrain_transformed, Xtest_transformed = apply_feature_extraction(Xtrain, Xtest, Ytrain)"
   ]
  },
  {
   "cell_type": "code",
   "execution_count": 15,
   "metadata": {},
   "outputs": [
    {
     "name": "stdout",
     "output_type": "stream",
     "text": [
      "Accuracy: 0.9714285714285714\n",
      "              precision    recall  f1-score   support\n",
      "\n",
      "         1.0       1.00      1.00      1.00        54\n",
      "         2.0       1.00      0.97      0.99        36\n",
      "         3.0       0.98      1.00      0.99        53\n",
      "         4.0       0.96      0.94      0.95        50\n",
      "         5.0       0.92      0.94      0.93        52\n",
      "\n",
      "    accuracy                           0.97       245\n",
      "   macro avg       0.97      0.97      0.97       245\n",
      "weighted avg       0.97      0.97      0.97       245\n",
      "\n"
     ]
    }
   ],
   "source": [
    "rfc = RandomForestClassifier(random_state=3407, n_estimators=1000)\n",
    "rfc = rfc.fit(Xtrain, Ytrain)\n",
    "Ypred = rfc.predict(Xtest)\n",
    "accuracy = accuracy_score(Ytest, Ypred)\n",
    "print(\"Accuracy:\", accuracy)\n",
    "print(classification_report(Ytest, Ypred))\n",
    "# #使用PCA\n",
    "# rfc = rfc.fit(Xtrain_transformed, Ytrain)\n",
    "# score_r = rfc.score(Xtest_transformed, Ytest)\n",
    "# print(\"Random Forest: {}\" .format(score_r))"
   ]
  },
  {
   "cell_type": "code",
   "execution_count": 3,
   "metadata": {},
   "outputs": [
    {
     "name": "stdout",
     "output_type": "stream",
     "text": [
      "Accuracy: 0.9387755102040817\n",
      "              precision    recall  f1-score   support\n",
      "\n",
      "           0       1.00      1.00      1.00        54\n",
      "           1       0.97      0.86      0.91        36\n",
      "           2       1.00      1.00      1.00        53\n",
      "           3       0.96      0.92      0.94        50\n",
      "           4       0.94      0.88      0.91        52\n",
      "\n",
      "   micro avg       0.97      0.94      0.96       245\n",
      "   macro avg       0.97      0.93      0.95       245\n",
      "weighted avg       0.97      0.94      0.96       245\n",
      " samples avg       0.94      0.94      0.94       245\n",
      "\n"
     ]
    },
    {
     "name": "stderr",
     "output_type": "stream",
     "text": [
      "c:\\Users\\wenjie\\anaconda3\\Lib\\site-packages\\sklearn\\metrics\\_classification.py:1469: UndefinedMetricWarning: Precision and F-score are ill-defined and being set to 0.0 in samples with no predicted labels. Use `zero_division` parameter to control this behavior.\n",
      "  _warn_prf(average, modifier, msg_start, len(result))\n"
     ]
    }
   ],
   "source": [
    "#读取npy数据\n",
    "Xtrain = np.load('Xtrain_ex.npy')\n",
    "Xtest = np.load('Xtest_one_hot.npy')\n",
    "Ytrain = np.load('Ytrain_ex.npy')\n",
    "Ytest = np.load('Ytest_one_hot.npy')\n",
    "#利用onehot编码的数据进行训练\n",
    "rf_classifier = RandomForestClassifier(n_estimators=100, random_state=3407)\n",
    "rf_classifier.fit(Xtrain, Ytrain)\n",
    "Ypred = rf_classifier.predict(Xtest)\n",
    "accuracy = accuracy_score(Ytest, Ypred)\n",
    "print(\"Accuracy:\", accuracy)\n",
    "print(classification_report(Ytest, Ypred))\n"
   ]
  },
  {
   "cell_type": "code",
   "execution_count": null,
   "metadata": {},
   "outputs": [],
   "source": []
  },
  {
   "cell_type": "code",
   "execution_count": 22,
   "metadata": {},
   "outputs": [
    {
     "name": "stdout",
     "output_type": "stream",
     "text": [
      "Fitting 3 folds for each of 100 candidates, totalling 300 fits\n"
     ]
    }
   ],
   "source": [
    "\n"
   ]
  },
  {
   "cell_type": "code",
   "execution_count": 20,
   "metadata": {},
   "outputs": [
    {
     "name": "stdout",
     "output_type": "stream",
     "text": [
      "Accuracy: 0.9428571428571428\n",
      "              precision    recall  f1-score   support\n",
      "\n",
      "           0       1.00      1.00      1.00        54\n",
      "           1       1.00      0.92      0.96        36\n",
      "           2       1.00      1.00      1.00        53\n",
      "           3       0.96      0.92      0.94        50\n",
      "           4       0.94      0.87      0.90        52\n",
      "\n",
      "   micro avg       0.98      0.94      0.96       245\n",
      "   macro avg       0.98      0.94      0.96       245\n",
      "weighted avg       0.98      0.94      0.96       245\n",
      " samples avg       0.94      0.94      0.94       245\n",
      "\n"
     ]
    },
    {
     "name": "stderr",
     "output_type": "stream",
     "text": [
      "c:\\Users\\wenjie\\anaconda3\\Lib\\site-packages\\sklearn\\metrics\\_classification.py:1469: UndefinedMetricWarning: Precision and F-score are ill-defined and being set to 0.0 in samples with no predicted labels. Use `zero_division` parameter to control this behavior.\n",
      "  _warn_prf(average, modifier, msg_start, len(result))\n"
     ]
    }
   ],
   "source": []
  },
  {
   "cell_type": "code",
   "execution_count": null,
   "metadata": {},
   "outputs": [],
   "source": []
  }
 ],
 "metadata": {
  "kernelspec": {
   "display_name": "base",
   "language": "python",
   "name": "python3"
  },
  "language_info": {
   "codemirror_mode": {
    "name": "ipython",
    "version": 3
   },
   "file_extension": ".py",
   "mimetype": "text/x-python",
   "name": "python",
   "nbconvert_exporter": "python",
   "pygments_lexer": "ipython3",
   "version": "3.11.4"
  }
 },
 "nbformat": 4,
 "nbformat_minor": 2
}
