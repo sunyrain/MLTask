{
 "cells": [
  {
   "cell_type": "code",
   "execution_count": 2,
   "metadata": {},
   "outputs": [],
   "source": [
    "import pandas as pd\n",
    "import numpy as np\n",
    "from sklearn.ensemble import RandomForestClassifier\n",
    "from sklearn.tree import DecisionTreeClassifier\n",
    "from sklearn.linear_model import LogisticRegression\n",
    "from sklearn.metrics import accuracy_score\n",
    "from sklearn.decomposition import PCA\n",
    "from sklearn.discriminant_analysis import LinearDiscriminantAnalysis as LDA\n",
    "from sklearn.ensemble import RandomForestClassifier\n",
    "from sklearn.metrics import accuracy_score, classification_report\n",
    "from tqdm import tqdm\n"
   ]
  },
  {
   "cell_type": "code",
   "execution_count": 10,
   "metadata": {},
   "outputs": [],
   "source": [
    "import pandas as pd\n",
    "from sklearn.utils import shuffle\n",
    "\n",
    "def load_data(train_path, test_path):\n",
    "    # 加载数据\n",
    "    train_df = pd.read_csv(train_path)\n",
    "    test_df = pd.read_csv(test_path)\n",
    "\n",
    "    # 分离特征和标签\n",
    "    Xtrain = train_df.drop('Label', axis=1).values\n",
    "    Ytrain = train_df['Label'].values\n",
    "    Xtest = test_df.drop('Label', axis=1).values\n",
    "    Ytest = test_df['Label'].values\n",
    "\n",
    "    # 洗牌训练数据\n",
    "    #Xtrain, Ytrain = shuffle(Xtrain, Ytrain)\n",
    "\n",
    "    return Xtrain, Ytrain, Xtest, Ytest\n",
    "\n",
    "\n",
    "def apply_feature_extraction(Xtrain, Xtest, Ytrain):\n",
    "    model = PCA(n_components=0.99)\n",
    "    #输出特征数量\n",
    "    print(model.n_components)\n",
    "    Xtrain_transformed = model.fit_transform(Xtrain)\n",
    "    Xtest_transformed = model.transform(Xtest)\n",
    "    print(f\"Reduced number of features: {Xtrain_transformed.shape[1]}\")\n",
    "    return Xtrain_transformed, Xtest_transformed\n"
   ]
  },
  {
   "cell_type": "code",
   "execution_count": 11,
   "metadata": {},
   "outputs": [
    {
     "name": "stdout",
     "output_type": "stream",
     "text": [
      "0.99\n",
      "Reduced number of features: 617\n"
     ]
    }
   ],
   "source": [
    "Xtrain, Ytrain, Xtest, Ytest = load_data('train_dataset.csv', 'test_dataset.csv')\n",
    "Xtrain_transformed, Xtest_transformed = apply_feature_extraction(Xtrain, Xtest, Ytrain)"
   ]
  },
  {
   "cell_type": "code",
   "execution_count": 12,
   "metadata": {},
   "outputs": [
    {
     "name": "stdout",
     "output_type": "stream",
     "text": [
      "Accuracy: 0.9714285714285714\n",
      "              precision    recall  f1-score   support\n",
      "\n",
      "         1.0       1.00      1.00      1.00        54\n",
      "         2.0       1.00      0.97      0.99        36\n",
      "         3.0       0.98      1.00      0.99        53\n",
      "         4.0       0.96      0.94      0.95        50\n",
      "         5.0       0.92      0.94      0.93        52\n",
      "\n",
      "    accuracy                           0.97       245\n",
      "   macro avg       0.97      0.97      0.97       245\n",
      "weighted avg       0.97      0.97      0.97       245\n",
      "\n"
     ]
    }
   ],
   "source": [
    "rfc = RandomForestClassifier(random_state=3407, n_estimators=1000)\n",
    "rfc = rfc.fit(Xtrain, Ytrain)\n",
    "Ypred = rfc.predict(Xtest)\n",
    "accuracy = accuracy_score(Ytest, Ypred)\n",
    "print(\"Accuracy:\", accuracy)\n",
    "print(classification_report(Ytest, Ypred))\n",
    "# #使用PCA\n",
    "# rfc = rfc.fit(Xtrain_transformed, Ytrain)\n",
    "# score_r = rfc.score(Xtest_transformed, Ytest)\n",
    "# print(\"Random Forest: {}\" .format(score_r))"
   ]
  },
  {
   "cell_type": "code",
   "execution_count": 26,
   "metadata": {},
   "outputs": [
    {
     "name": "stdout",
     "output_type": "stream",
     "text": [
      "[0 0 0 0 0 0 0 0 0 0 0 0 0 0 0 0 0 0 0 0 0 0 0 0 0 0 0 0 0 0 0 0 0 0 0 0 0\n",
      " 0 0 0 0 0 0 0 0 0 0 0 0 0 0 0 0 0 1 1 1 1 1 1 1 1 1 1 1 1 1 1 1 2 1 1 1 1\n",
      " 1 1 1 1 1 1 1 1 1 1 1 1 1 1 1 1 2 2 2 2 2 2 2 2 2 2 2 2 2 2 2 2 2 2 2 2 2\n",
      " 2 2 2 2 2 2 2 2 2 2 2 2 2 2 2 2 2 2 2 2 2 2 2 2 2 2 2 2 2 2 2 2 3 4 3 3 3\n",
      " 3 3 3 3 3 3 3 3 3 3 4 3 3 3 3 3 3 3 3 3 3 3 3 3 3 3 3 3 3 3 3 3 4 3 3 3 3\n",
      " 3 3 3 3 3 3 3 3 4 4 4 4 3 4 4 4 4 4 4 4 4 4 4 4 4 4 4 3 4 4 4 4 3 4 4 4 4\n",
      " 4 2 4 4 4 4 4 4 4 4 4 4 4 4 4 4 4 4 4 4 4 4 4]\n",
      "Accuracy: 0.9673469387755103\n",
      "              precision    recall  f1-score   support\n",
      "\n",
      "           0       1.00      1.00      1.00        54\n",
      "           1       1.00      0.97      0.99        36\n",
      "           2       0.96      1.00      0.98        53\n",
      "           3       0.94      0.94      0.94        50\n",
      "           4       0.94      0.92      0.93        52\n",
      "\n",
      "    accuracy                           0.97       245\n",
      "   macro avg       0.97      0.97      0.97       245\n",
      "weighted avg       0.97      0.97      0.97       245\n",
      "\n"
     ]
    }
   ],
   "source": [
    "#读取npy数据\n",
    "Xtrain = np.load('Xtrain_test.npy')\n",
    "Xtest = np.load('Xtest_test.npy')\n",
    "Ytrain = np.load('Ytrain_test.npy')\n",
    "Ytest = np.load('Ytest_test.npy')\n",
    "Ytest = Ytest.reshape(-1)\n",
    "Ytrain = Ytrain.reshape(-1)\n",
    "rf_classifier = RandomForestClassifier(n_estimators=1000, random_state=42)\n",
    "rf_classifier.fit(Xtrain, Ytrain)\n",
    "Ypred = rf_classifier.predict(Xtest)\n",
    "print(Ypred)\n",
    "accuracy = accuracy_score(Ytest, Ypred)\n",
    "print(\"Accuracy:\", accuracy)\n",
    "print(classification_report(Ytest, Ypred))\n",
    "\n"
   ]
  },
  {
   "cell_type": "code",
   "execution_count": 27,
   "metadata": {},
   "outputs": [
    {
     "name": "stdout",
     "output_type": "stream",
     "text": [
      "[0 0 0 0 0 0 0 0 0 0 0 0 0 0 0 0 0 0 0 0 0 0 0 0 0 0 0 0 0 0 0 0 0 0 0 0 0\n",
      " 0 0 0 0 0 0 0 0 0 0 0 0 0 0 0 0 0 1 1 1 1 1 1 1 1 1 1 1 1 1 1 1 2 1 1 1 1\n",
      " 1 1 1 1 1 1 1 1 1 1 1 1 1 1 1 1 2 2 2 2 2 2 2 2 2 2 2 2 2 2 2 2 2 2 2 2 2\n",
      " 2 2 2 2 2 2 2 2 2 2 2 2 2 2 2 2 2 2 2 2 2 2 2 2 2 2 2 2 2 2 2 2 3 4 3 3 3\n",
      " 3 3 3 3 3 3 3 3 3 3 4 3 3 3 3 3 3 3 3 3 3 3 3 3 3 3 3 3 3 3 3 3 4 3 3 3 3\n",
      " 3 3 3 3 3 3 3 3 4 4 4 4 3 4 4 4 4 4 4 4 4 4 4 4 4 4 4 3 4 4 4 4 3 4 4 4 4\n",
      " 4 2 4 4 4 4 4 4 4 4 4 4 4 4 4 4 4 4 4 4 4 4 4]\n",
      "(245,)\n",
      "[0 0 0 0 0 0 0 0 0 0 0 0 0 0 0 0 0 0 0 0 0 0 0 0 0 0 0 0 0 0 0 0 0 0 0 0 0\n",
      " 0 0 0 0 0 0 0 0 0 0 0 0 0 0 0 0 0 1 1 1 1 1 1 1 1 1 1 1 1 1 1 1 1 1 1 1 1\n",
      " 1 1 1 1 1 1 1 1 1 1 1 1 1 1 1 1 2 2 2 2 2 2 2 2 2 2 2 2 2 2 2 2 2 2 2 2 2\n",
      " 2 2 2 2 2 2 2 2 2 2 2 2 2 2 2 2 2 2 2 2 2 2 2 2 2 2 2 2 2 2 2 2 3 3 3 3 3\n",
      " 3 3 3 3 3 3 3 3 3 3 3 3 3 3 3 3 3 3 3 3 3 3 3 3 3 3 3 3 3 3 3 3 3 3 3 3 3\n",
      " 3 3 3 3 3 3 3 3 4 4 4 4 4 4 4 4 4 4 4 4 4 4 4 4 4 4 4 4 4 4 4 4 4 4 4 4 4\n",
      " 4 4 4 4 4 4 4 4 4 4 4 4 4 4 4 4 4 4 4 4 4 4 4]\n",
      "(245,)\n",
      "Number of mislabeled points out of a total 245 points : 8\n",
      "错误分类的样本位置:  [ 69 144 158 180 197 212 217 223]\n",
      "真实标签:  [1 3 3 3 4 4 4 4]\n",
      "预测标签:  [2 4 4 4 3 3 3 2]\n"
     ]
    }
   ],
   "source": [
    "print(Ypred)\n",
    "print(Ypred.shape)\n",
    "print(Ytest)\n",
    "print(Ytest.shape)\n",
    "mismatches = np.where(Ytest != Ypred )[0]\n",
    "print(\"Number of mislabeled points out of a total %d points : %d\" % (Xtest.shape[0], mismatches.shape[0]))\n",
    "\n",
    "# 输出错误分类的样本位置, 以及真实标签和预测标签\n",
    "print(\"错误分类的样本位置: \", mismatches)\n",
    "print(\"真实标签: \", Ytest[mismatches])\n",
    "print(\"预测标签: \", Ypred[mismatches])\n"
   ]
  },
  {
   "cell_type": "code",
   "execution_count": null,
   "metadata": {},
   "outputs": [],
   "source": []
  },
  {
   "cell_type": "code",
   "execution_count": 22,
   "metadata": {},
   "outputs": [
    {
     "name": "stdout",
     "output_type": "stream",
     "text": [
      "Fitting 3 folds for each of 100 candidates, totalling 300 fits\n"
     ]
    }
   ],
   "source": [
    "\n"
   ]
  },
  {
   "cell_type": "code",
   "execution_count": null,
   "metadata": {},
   "outputs": [],
   "source": []
  }
 ],
 "metadata": {
  "kernelspec": {
   "display_name": "base",
   "language": "python",
   "name": "python3"
  },
  "language_info": {
   "codemirror_mode": {
    "name": "ipython",
    "version": 3
   },
   "file_extension": ".py",
   "mimetype": "text/x-python",
   "name": "python",
   "nbconvert_exporter": "python",
   "pygments_lexer": "ipython3",
   "version": "3.11.4"
  }
 },
 "nbformat": 4,
 "nbformat_minor": 2
}
